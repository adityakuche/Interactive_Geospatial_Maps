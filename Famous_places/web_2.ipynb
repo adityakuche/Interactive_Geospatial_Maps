{
 "cells": [
  {
   "cell_type": "code",
   "execution_count": 6,
   "id": "d169d181",
   "metadata": {},
   "outputs": [
    {
     "name": "stdout",
     "output_type": "stream",
     "text": [
      "Beijing\n",
      "Vatican City\n",
      "Versailles\n",
      "Washington, D.C.\n",
      "Rome\n",
      "Athens\n",
      "Paris\n",
      "Agra\n",
      "Cologne\n",
      "Saint Petersburg\n",
      "Warsaw\n",
      "Washington, D.C.\n",
      "Washington, D.C.\n",
      "Philadelphia\n",
      "Barcelona\n",
      "New York City\n",
      "Teotihuacán\n",
      "Mysore\n",
      "Saint Petersburg\n",
      "Naples\n",
      "Warsaw\n",
      "Vienna\n",
      "Kazan\n",
      "London\n",
      "Granada\n",
      "Yucatán\n",
      "Istanbul\n",
      "Mexico City\n",
      "Valencia\n",
      "Kevadiya\n",
      "Moscow\n",
      "Volgograd\n",
      "Quintana Roo\n",
      "Oświęcim\n",
      "Edinburgh\n",
      "Córdoba\n",
      "Seville\n",
      "Kraków\n",
      "Paris\n",
      "Madrid\n"
     ]
    }
   ],
   "source": [
    "import pandas as pd\n",
    "from geopandas. tools import geocode \n",
    "\n",
    "data  = pd.read_html('https://en.wikipedia.org/wiki/List_of_most_visited_palaces_and_monuments')\n",
    "\n",
    "for monuments in data:\n",
    "    #print(monuments)\n",
    "    pass\n",
    "\n",
    "# Save the information in to an excel file \n",
    "monuments.to_excel('most_visited_locations.xlsx', header = False)\n",
    "\n",
    "# Read the information back into Python as a Pandas DataFrame\n",
    "monuments = pd.read_excel('most_visited_locations.xlsx', \n",
    "                          usecols = [2, 3, 4],\n",
    "                          names = ['Name', 'Location', 'Visitors'], \n",
    "                          header = None,\n",
    "                          skiprows = 1, nrows = 40)\n",
    "\n",
    "\n",
    "# Iterate through the monuments DataFrame\n",
    "for index, row in monuments.iterrows():\n",
    "    try: \n",
    "        print(row['Name'])\n",
    "        info = geocode(str(row['Name']), provider = 'arcgis' )\n",
    "        monuments.loc[int(index), 'Address'] = info['address'].loc[0]\n",
    "        monuments.loc[int(index), 'Lon'] = info['geometry'].loc[0].x\n",
    "        monuments.loc[int(index), 'Lat'] = info['geometry'].loc[0].y\n",
    "        \n",
    "    except TypeError:\n",
    "        print ('Geocoding information for '+ row['Name']+ \" is not found!\")\n",
    "        print ('')\n",
    "\n",
    "# Removing the Nan rows \n",
    "monuments = monuments.dropna()\n",
    "\n",
    "# Saving the dataframe to an excel file \n",
    "monuments.to_excel('Most_visited_monuments.xlsx')      \n"
   ]
  },
  {
   "cell_type": "code",
   "execution_count": 4,
   "id": "76ad33be",
   "metadata": {},
   "outputs": [],
   "source": [
    "import openpyxl\n"
   ]
  },
  {
   "cell_type": "code",
   "execution_count": 9,
   "id": "143a4772",
   "metadata": {},
   "outputs": [],
   "source": [
    "import folium \n",
    "import pandas as pd \n",
    "\n",
    "dataset = pd.read_excel('Most_visited_monuments.xlsx')\n",
    "del dataset['Unnamed: 0']\n",
    "\n",
    "m = folium.Map(tiles = 'openstreetmap', zoom_starts = 2)\n",
    "\n",
    "for index, row in dataset.iterrows():\n",
    "    folium.Marker([row['Lat'], row['Lon']], popup = 'Name: '+row['Name']+ '<br>' '<br>' 'No. of Visitors: '+ row['Visitors'] ).add_to(m)\n",
    "    \n",
    "m.save('monuments_around_the_world.html')"
   ]
  },
  {
   "cell_type": "code",
   "execution_count": 8,
   "id": "b70a0286",
   "metadata": {},
   "outputs": [
    {
     "name": "stdout",
     "output_type": "stream",
     "text": [
      "Collecting folium\n",
      "  Downloading folium-0.14.0-py2.py3-none-any.whl (102 kB)\n",
      "     -------------------------------------- 102.3/102.3 KB 3.0 MB/s eta 0:00:00\n",
      "Requirement already satisfied: requests in c:\\python310\\gis_environment\\lib\\site-packages (from folium) (2.25.1)\n",
      "Collecting branca>=0.6.0\n",
      "  Downloading branca-0.6.0-py3-none-any.whl (24 kB)\n",
      "Requirement already satisfied: numpy in c:\\python310\\gis_environment\\lib\\site-packages (from folium) (1.22.3)\n",
      "Requirement already satisfied: jinja2>=2.9 in c:\\python310\\gis_environment\\lib\\site-packages (from folium) (3.1.1)\n",
      "Requirement already satisfied: MarkupSafe>=2.0 in c:\\python310\\gis_environment\\lib\\site-packages (from jinja2>=2.9->folium) (2.1.1)\n",
      "Requirement already satisfied: urllib3<1.27,>=1.21.1 in c:\\python310\\gis_environment\\lib\\site-packages (from requests->folium) (1.26.9)\n",
      "Requirement already satisfied: idna<3,>=2.5 in c:\\python310\\gis_environment\\lib\\site-packages (from requests->folium) (2.10)\n",
      "Requirement already satisfied: certifi>=2017.4.17 in c:\\python310\\gis_environment\\lib\\site-packages (from requests->folium) (2021.10.8)\n",
      "Requirement already satisfied: chardet<5,>=3.0.2 in c:\\python310\\gis_environment\\lib\\site-packages (from requests->folium) (4.0.0)\n",
      "Installing collected packages: branca, folium\n",
      "Successfully installed branca-0.6.0 folium-0.14.0\n",
      "Note: you may need to restart the kernel to use updated packages.\n"
     ]
    },
    {
     "name": "stderr",
     "output_type": "stream",
     "text": [
      "WARNING: You are using pip version 22.0.4; however, version 23.1.2 is available.\n",
      "You should consider upgrading via the 'C:\\Python310\\GIS_Environment\\Scripts\\python.exe -m pip install --upgrade pip' command.\n"
     ]
    }
   ],
   "source": [
    "pip install folium"
   ]
  },
  {
   "cell_type": "code",
   "execution_count": null,
   "id": "435386ae",
   "metadata": {},
   "outputs": [],
   "source": [
    "# referance of this code is -- https://www.youtube.com/watch?v=AtyRmWdGhHE"
   ]
  }
 ],
 "metadata": {
  "kernelspec": {
   "display_name": "Python 3 (ipykernel)",
   "language": "python",
   "name": "python3"
  },
  "language_info": {
   "codemirror_mode": {
    "name": "ipython",
    "version": 3
   },
   "file_extension": ".py",
   "mimetype": "text/x-python",
   "name": "python",
   "nbconvert_exporter": "python",
   "pygments_lexer": "ipython3",
   "version": "3.10.4"
  }
 },
 "nbformat": 4,
 "nbformat_minor": 5
}
